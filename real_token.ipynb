{
 "cells": [
  {
   "cell_type": "code",
   "execution_count": 48,
   "metadata": {},
   "outputs": [],
   "source": [
    "import warnings\n",
    "from pythainlp import sent_tokenize, word_tokenize\n",
    "import numpy as np\n",
    "from deepcut import tokenize\n",
    "import json\n",
    "from jason_algorithm import Tranformtojson"
   ]
  },
  {
   "cell_type": "code",
   "execution_count": 49,
   "metadata": {},
   "outputs": [],
   "source": [
    "for i in range(1,4):\n",
    "    with open('สุชยา เกษจำรัสbefore''\\\\'+str(i)+'.json',encoding=\"utf-8\") as f:\n",
    "        s = f.read()\n",
    "    manage = json.loads(s)\n",
    "\n",
    "    after_word = word_tokenize(manage['content'], engine=\"deepcut\", keep_whitespace=False)\n",
    "    # print(type(after_word))\n",
    "    # print(after_word)\n",
    "    result2 = Tranformtojson(i,manage['author'],manage['topic'],after_word)\n",
    "    result2.tranform()"
   ]
  }
 ],
 "metadata": {
  "interpreter": {
   "hash": "7b815d3cb796ba1a8819f2ca3ead91a5749b00dd3dc8b80466b18b42d5faac69"
  },
  "kernelspec": {
   "display_name": "Python 3.10.1 64-bit",
   "language": "python",
   "name": "python3"
  },
  "language_info": {
   "codemirror_mode": {
    "name": "ipython",
    "version": 3
   },
   "file_extension": ".py",
   "mimetype": "text/x-python",
   "name": "python",
   "nbconvert_exporter": "python",
   "pygments_lexer": "ipython3",
   "version": "3.10.1"
  },
  "orig_nbformat": 4
 },
 "nbformat": 4,
 "nbformat_minor": 2
}
