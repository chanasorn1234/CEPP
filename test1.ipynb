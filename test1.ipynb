{
 "cells": [
  {
   "cell_type": "code",
   "execution_count": 6,
   "metadata": {},
   "outputs": [],
   "source": [
    "import json"
   ]
  },
  {
   "cell_type": "code",
   "execution_count": null,
   "metadata": {},
   "outputs": [],
   "source": [
    "with open('1.json',encoding=\"utf-8\") as f:\n",
    "    s = f.read()\n",
    "manage = json.loads(s)\n",
    "print(manage)"
   ]
  },
  {
   "cell_type": "code",
   "execution_count": 62,
   "metadata": {},
   "outputs": [
    {
     "name": "stdout",
     "output_type": "stream",
     "text": [
      "1\n"
     ]
    }
   ],
   "source": [
    "start = 0\n",
    "count = 0\n",
    "while(start != len(manage['content'])):\n",
    "    result = manage['content'].find(\"C\",start,len(manage['content']))\n",
    "    # print(result)\n",
    "    if(result != -1):\n",
    "        # print(count)\n",
    "        count += 1\n",
    "        start = result\n",
    "    start += 1\n",
    "# result = manage['content'].find(\"เกม\",0,len(manage['content']))\n",
    "print(count)"
   ]
  }
 ],
 "metadata": {
  "interpreter": {
   "hash": "7b815d3cb796ba1a8819f2ca3ead91a5749b00dd3dc8b80466b18b42d5faac69"
  },
  "kernelspec": {
   "display_name": "Python 3.10.1 64-bit",
   "language": "python",
   "name": "python3"
  },
  "language_info": {
   "codemirror_mode": {
    "name": "ipython",
    "version": 3
   },
   "file_extension": ".py",
   "mimetype": "text/x-python",
   "name": "python",
   "nbconvert_exporter": "python",
   "pygments_lexer": "ipython3",
   "version": "3.10.1"
  },
  "orig_nbformat": 4
 },
 "nbformat": 4,
 "nbformat_minor": 2
}
